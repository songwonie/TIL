{
 "cells": [
  {
   "cell_type": "code",
   "execution_count": 69,
   "metadata": {},
   "outputs": [],
   "source": [
    "from sklearn.tree import DecisionTreeClassifier\n",
    "import pandas as pd\n",
    "import numpy as np"
   ]
  },
  {
   "cell_type": "markdown",
   "metadata": {},
   "source": [
    "# Decision Tree Process :\n",
    "\n",
    "    - 정확성을 예측하기 위해 발생할 수 있는 경우의 수를 tree 구조로 구성함\n",
    "\n",
    "    - 구성한 tree 구조는 각각 Gini 계수를 계산하여 낮은 숫자가 나오는 것이  \n",
    "      목표 \n",
    "\n",
    "    - 정답으로 도출되는 class 및 종속변수는 다양한 요인인 독립변수 등에 \n",
    "      영향을 미친다\n",
    "\n",
    "    - 각각의 데이터를 기록하는 dataFrame을 구성하고, np.array를 통해\n",
    "      배열로 종속변수와 독립변수에 입력한다.\n",
    "\n",
    "    - DecisionTreeClassifier()로 classifier를 구성할때, train_test_split()\n",
    "      을 통해 train과 test set을 나눈다.\n",
    "\n",
    "    - predict() 통해 예측값을 도출하고, y_test로 나눈 정답으로 서로 \n",
    "      비교한다. 그리고 정확도를 나타낸다."
   ]
  },
  {
   "cell_type": "code",
   "execution_count": 71,
   "metadata": {},
   "outputs": [],
   "source": [
    "tennis_data = pd.read_csv(\"playtennis.csv\")"
   ]
  },
  {
   "cell_type": "code",
   "execution_count": 72,
   "metadata": {},
   "outputs": [
    {
     "output_type": "execute_result",
     "data": {
      "text/plain": "     Outlook Temperature Humidity    Wind PlayTennis\n0      Sunny         Hot     High    Weak         No\n1      Sunny         Hot     High  Strong         No\n2   Overcast         Hot     High    Weak        Yes\n3       Rain        Mild     High    Weak        Yes\n4       Rain        Cool   Normal    Weak        Yes\n5       Rain        Cool   Normal  Strong         No\n6   Overcast        Cool   Normal  Strong        Yes\n7      Sunny        Mild     High    Weak         No\n8      Sunny        Cool   Normal    Weak        Yes\n9       Rain        Mild   Normal    Weak        Yes\n10     Sunny        Mild   Normal  Strong        Yes\n11  Overcast        Mild     High  Strong        Yes\n12  Overcast         Hot   Normal    Weak        Yes\n13      Rain        Mild     High  Strong         No",
      "text/html": "<div>\n<style scoped>\n    .dataframe tbody tr th:only-of-type {\n        vertical-align: middle;\n    }\n\n    .dataframe tbody tr th {\n        vertical-align: top;\n    }\n\n    .dataframe thead th {\n        text-align: right;\n    }\n</style>\n<table border=\"1\" class=\"dataframe\">\n  <thead>\n    <tr style=\"text-align: right;\">\n      <th></th>\n      <th>Outlook</th>\n      <th>Temperature</th>\n      <th>Humidity</th>\n      <th>Wind</th>\n      <th>PlayTennis</th>\n    </tr>\n  </thead>\n  <tbody>\n    <tr>\n      <th>0</th>\n      <td>Sunny</td>\n      <td>Hot</td>\n      <td>High</td>\n      <td>Weak</td>\n      <td>No</td>\n    </tr>\n    <tr>\n      <th>1</th>\n      <td>Sunny</td>\n      <td>Hot</td>\n      <td>High</td>\n      <td>Strong</td>\n      <td>No</td>\n    </tr>\n    <tr>\n      <th>2</th>\n      <td>Overcast</td>\n      <td>Hot</td>\n      <td>High</td>\n      <td>Weak</td>\n      <td>Yes</td>\n    </tr>\n    <tr>\n      <th>3</th>\n      <td>Rain</td>\n      <td>Mild</td>\n      <td>High</td>\n      <td>Weak</td>\n      <td>Yes</td>\n    </tr>\n    <tr>\n      <th>4</th>\n      <td>Rain</td>\n      <td>Cool</td>\n      <td>Normal</td>\n      <td>Weak</td>\n      <td>Yes</td>\n    </tr>\n    <tr>\n      <th>5</th>\n      <td>Rain</td>\n      <td>Cool</td>\n      <td>Normal</td>\n      <td>Strong</td>\n      <td>No</td>\n    </tr>\n    <tr>\n      <th>6</th>\n      <td>Overcast</td>\n      <td>Cool</td>\n      <td>Normal</td>\n      <td>Strong</td>\n      <td>Yes</td>\n    </tr>\n    <tr>\n      <th>7</th>\n      <td>Sunny</td>\n      <td>Mild</td>\n      <td>High</td>\n      <td>Weak</td>\n      <td>No</td>\n    </tr>\n    <tr>\n      <th>8</th>\n      <td>Sunny</td>\n      <td>Cool</td>\n      <td>Normal</td>\n      <td>Weak</td>\n      <td>Yes</td>\n    </tr>\n    <tr>\n      <th>9</th>\n      <td>Rain</td>\n      <td>Mild</td>\n      <td>Normal</td>\n      <td>Weak</td>\n      <td>Yes</td>\n    </tr>\n    <tr>\n      <th>10</th>\n      <td>Sunny</td>\n      <td>Mild</td>\n      <td>Normal</td>\n      <td>Strong</td>\n      <td>Yes</td>\n    </tr>\n    <tr>\n      <th>11</th>\n      <td>Overcast</td>\n      <td>Mild</td>\n      <td>High</td>\n      <td>Strong</td>\n      <td>Yes</td>\n    </tr>\n    <tr>\n      <th>12</th>\n      <td>Overcast</td>\n      <td>Hot</td>\n      <td>Normal</td>\n      <td>Weak</td>\n      <td>Yes</td>\n    </tr>\n    <tr>\n      <th>13</th>\n      <td>Rain</td>\n      <td>Mild</td>\n      <td>High</td>\n      <td>Strong</td>\n      <td>No</td>\n    </tr>\n  </tbody>\n</table>\n</div>"
     },
     "metadata": {},
     "execution_count": 72
    }
   ],
   "source": [
    "tennis_data"
   ]
  },
  {
   "cell_type": "code",
   "execution_count": 73,
   "metadata": {},
   "outputs": [
    {
     "output_type": "execute_result",
     "data": {
      "text/plain": "    Outlook  Temperature  Humidity  Wind  PlayTennis\n0         0            0         1     0           0\n1         0            0         1     1           0\n2         1            0         1     0           1\n3         2            1         1     0           1\n4         2            2         0     0           1\n5         2            2         0     1           0\n6         1            2         0     1           1\n7         0            1         1     0           0\n8         0            2         0     0           1\n9         2            1         0     0           1\n10        0            1         0     1           1\n11        1            1         1     1           1\n12        1            0         0     0           1\n13        2            1         1     1           0",
      "text/html": "<div>\n<style scoped>\n    .dataframe tbody tr th:only-of-type {\n        vertical-align: middle;\n    }\n\n    .dataframe tbody tr th {\n        vertical-align: top;\n    }\n\n    .dataframe thead th {\n        text-align: right;\n    }\n</style>\n<table border=\"1\" class=\"dataframe\">\n  <thead>\n    <tr style=\"text-align: right;\">\n      <th></th>\n      <th>Outlook</th>\n      <th>Temperature</th>\n      <th>Humidity</th>\n      <th>Wind</th>\n      <th>PlayTennis</th>\n    </tr>\n  </thead>\n  <tbody>\n    <tr>\n      <th>0</th>\n      <td>0</td>\n      <td>0</td>\n      <td>1</td>\n      <td>0</td>\n      <td>0</td>\n    </tr>\n    <tr>\n      <th>1</th>\n      <td>0</td>\n      <td>0</td>\n      <td>1</td>\n      <td>1</td>\n      <td>0</td>\n    </tr>\n    <tr>\n      <th>2</th>\n      <td>1</td>\n      <td>0</td>\n      <td>1</td>\n      <td>0</td>\n      <td>1</td>\n    </tr>\n    <tr>\n      <th>3</th>\n      <td>2</td>\n      <td>1</td>\n      <td>1</td>\n      <td>0</td>\n      <td>1</td>\n    </tr>\n    <tr>\n      <th>4</th>\n      <td>2</td>\n      <td>2</td>\n      <td>0</td>\n      <td>0</td>\n      <td>1</td>\n    </tr>\n    <tr>\n      <th>5</th>\n      <td>2</td>\n      <td>2</td>\n      <td>0</td>\n      <td>1</td>\n      <td>0</td>\n    </tr>\n    <tr>\n      <th>6</th>\n      <td>1</td>\n      <td>2</td>\n      <td>0</td>\n      <td>1</td>\n      <td>1</td>\n    </tr>\n    <tr>\n      <th>7</th>\n      <td>0</td>\n      <td>1</td>\n      <td>1</td>\n      <td>0</td>\n      <td>0</td>\n    </tr>\n    <tr>\n      <th>8</th>\n      <td>0</td>\n      <td>2</td>\n      <td>0</td>\n      <td>0</td>\n      <td>1</td>\n    </tr>\n    <tr>\n      <th>9</th>\n      <td>2</td>\n      <td>1</td>\n      <td>0</td>\n      <td>0</td>\n      <td>1</td>\n    </tr>\n    <tr>\n      <th>10</th>\n      <td>0</td>\n      <td>1</td>\n      <td>0</td>\n      <td>1</td>\n      <td>1</td>\n    </tr>\n    <tr>\n      <th>11</th>\n      <td>1</td>\n      <td>1</td>\n      <td>1</td>\n      <td>1</td>\n      <td>1</td>\n    </tr>\n    <tr>\n      <th>12</th>\n      <td>1</td>\n      <td>0</td>\n      <td>0</td>\n      <td>0</td>\n      <td>1</td>\n    </tr>\n    <tr>\n      <th>13</th>\n      <td>2</td>\n      <td>1</td>\n      <td>1</td>\n      <td>1</td>\n      <td>0</td>\n    </tr>\n  </tbody>\n</table>\n</div>"
     },
     "metadata": {},
     "execution_count": 73
    }
   ],
   "source": [
    "'''\n",
    "Outlook/Temperature/Humidity/Wind 독립변수 int 변환!\n",
    "변환할때는 변수 대입해서!\n",
    "'''\n",
    "# Outlook\n",
    "tennis_data.Outlook = tennis_data.Outlook.replace(\"Sunny\", 0)\n",
    "tennis_data.Outlook = tennis_data.Outlook.replace(\"Overcast\", 1)\n",
    "tennis_data.Outlook = tennis_data.Outlook.replace(\"Rain\", 2)\n",
    "\n",
    "# Temperature\n",
    "tennis_data.Temperature = tennis_data.Temperature.replace('Hot', 0)\n",
    "tennis_data.Temperature = tennis_data.Temperature.replace('Mild', 1)\n",
    "tennis_data.Temperature = tennis_data.Temperature.replace('Cool', 2)\n",
    "\n",
    "# Humidity\n",
    "tennis_data.Humidity = tennis_data.Humidity.replace('Normal', 0)\n",
    "tennis_data.Humidity = tennis_data.Humidity.replace('High', 1)\n",
    "\n",
    "# Wind\n",
    "tennis_data.Wind = tennis_data.Wind.replace('Weak', 0)\n",
    "tennis_data.Wind = tennis_data.Wind.replace('Strong', 1)\n",
    "\n",
    "'''\n",
    "종속변수 int 변환\n",
    "'''\n",
    "tennis_data.PlayTennis = tennis_data.PlayTennis.replace('No', 0)\n",
    "tennis_data.PlayTennis = tennis_data.PlayTennis.replace('Yes', 1)\n",
    "\n",
    "tennis_data\n"
   ]
  },
  {
   "cell_type": "code",
   "execution_count": 74,
   "metadata": {},
   "outputs": [
    {
     "output_type": "execute_result",
     "data": {
      "text/plain": "    playTennis\n0          NaN\n1          NaN\n2          NaN\n3          NaN\n4          NaN\n5          NaN\n6          NaN\n7          NaN\n8          NaN\n9          NaN\n10         NaN\n11         NaN\n12         NaN\n13         NaN",
      "text/html": "<div>\n<style scoped>\n    .dataframe tbody tr th:only-of-type {\n        vertical-align: middle;\n    }\n\n    .dataframe tbody tr th {\n        vertical-align: top;\n    }\n\n    .dataframe thead th {\n        text-align: right;\n    }\n</style>\n<table border=\"1\" class=\"dataframe\">\n  <thead>\n    <tr style=\"text-align: right;\">\n      <th></th>\n      <th>playTennis</th>\n    </tr>\n  </thead>\n  <tbody>\n    <tr>\n      <th>0</th>\n      <td>NaN</td>\n    </tr>\n    <tr>\n      <th>1</th>\n      <td>NaN</td>\n    </tr>\n    <tr>\n      <th>2</th>\n      <td>NaN</td>\n    </tr>\n    <tr>\n      <th>3</th>\n      <td>NaN</td>\n    </tr>\n    <tr>\n      <th>4</th>\n      <td>NaN</td>\n    </tr>\n    <tr>\n      <th>5</th>\n      <td>NaN</td>\n    </tr>\n    <tr>\n      <th>6</th>\n      <td>NaN</td>\n    </tr>\n    <tr>\n      <th>7</th>\n      <td>NaN</td>\n    </tr>\n    <tr>\n      <th>8</th>\n      <td>NaN</td>\n    </tr>\n    <tr>\n      <th>9</th>\n      <td>NaN</td>\n    </tr>\n    <tr>\n      <th>10</th>\n      <td>NaN</td>\n    </tr>\n    <tr>\n      <th>11</th>\n      <td>NaN</td>\n    </tr>\n    <tr>\n      <th>12</th>\n      <td>NaN</td>\n    </tr>\n    <tr>\n      <th>13</th>\n      <td>NaN</td>\n    </tr>\n  </tbody>\n</table>\n</div>"
     },
     "metadata": {},
     "execution_count": 74
    }
   ],
   "source": [
    "# 특정 column만 보이기\n",
    "y = pd.DataFrame(tennis_data, columns=[\"playTennis\"])\n",
    "y"
   ]
  },
  {
   "cell_type": "code",
   "execution_count": 75,
   "metadata": {},
   "outputs": [
    {
     "output_type": "execute_result",
     "data": {
      "text/plain": "array([[0],\n       [0],\n       [1],\n       [1],\n       [1],\n       [0],\n       [1],\n       [0],\n       [1],\n       [1],\n       [1],\n       [1],\n       [1],\n       [0]], dtype=int64)"
     },
     "metadata": {},
     "execution_count": 75
    }
   ],
   "source": [
    "# 종속변수 배열화 및 입력\n",
    "y = np.array( pd.DataFrame(tennis_data, columns=[\"PlayTennis\"]))\n",
    "y"
   ]
  },
  {
   "cell_type": "code",
   "execution_count": 76,
   "metadata": {},
   "outputs": [
    {
     "output_type": "execute_result",
     "data": {
      "text/plain": "array([[0, 0, 1, 0],\n       [0, 0, 1, 1],\n       [1, 0, 1, 0],\n       [2, 1, 1, 0],\n       [2, 2, 0, 0],\n       [2, 2, 0, 1],\n       [1, 2, 0, 1],\n       [0, 1, 1, 0],\n       [0, 2, 0, 0],\n       [2, 1, 0, 0],\n       [0, 1, 0, 1],\n       [1, 1, 1, 1],\n       [1, 0, 0, 0],\n       [2, 1, 1, 1]], dtype=int64)"
     },
     "metadata": {},
     "execution_count": 76
    }
   ],
   "source": [
    "# 독립변수 배열화 및 입력\n",
    "X = np.array(\n",
    "    pd.DataFrame(tennis_data,\n",
    "        columns=[\"Outlook\",\"Temperature\",\"Humidity\",\"Wind\"])\n",
    ")\n",
    "X"
   ]
  },
  {
   "cell_type": "code",
   "execution_count": 77,
   "metadata": {},
   "outputs": [
    {
     "output_type": "execute_result",
     "data": {
      "text/plain": "array([[1, 0, 0, 0],\n       [0, 1, 0, 1],\n       [0, 2, 0, 0],\n       [2, 2, 0, 0],\n       [2, 1, 1, 0],\n       [0, 0, 1, 1],\n       [1, 2, 0, 1],\n       [1, 0, 1, 0],\n       [2, 2, 0, 1],\n       [0, 0, 1, 0]], dtype=int64)"
     },
     "metadata": {},
     "execution_count": 77
    }
   ],
   "source": [
    "# train/test set 구성\n",
    "from sklearn.model_selection import train_test_split\n",
    "X_train, X_test, y_train, y_test = train_test_split(X, y)\n",
    "\n",
    "X_train"
   ]
  },
  {
   "cell_type": "code",
   "execution_count": 78,
   "metadata": {},
   "outputs": [
    {
     "output_type": "execute_result",
     "data": {
      "text/plain": "array([[1],\n       [1],\n       [1],\n       [1],\n       [1],\n       [0],\n       [1],\n       [1],\n       [0],\n       [0]], dtype=int64)"
     },
     "metadata": {},
     "execution_count": 78
    }
   ],
   "source": [
    "y_train"
   ]
  },
  {
   "cell_type": "code",
   "execution_count": 79,
   "metadata": {},
   "outputs": [
    {
     "output_type": "execute_result",
     "data": {
      "text/plain": "array([[1],\n       [0],\n       [1],\n       [0]], dtype=int64)"
     },
     "metadata": {},
     "execution_count": 79
    }
   ],
   "source": [
    "y_test"
   ]
  },
  {
   "cell_type": "code",
   "execution_count": 80,
   "metadata": {},
   "outputs": [
    {
     "output_type": "execute_result",
     "data": {
      "text/plain": "DecisionTreeClassifier(ccp_alpha=0.0, class_weight=None, criterion='gini',\n                       max_depth=None, max_features=None, max_leaf_nodes=None,\n                       min_impurity_decrease=0.0, min_impurity_split=None,\n                       min_samples_leaf=1, min_samples_split=2,\n                       min_weight_fraction_leaf=0.0, presort='deprecated',\n                       random_state=None, splitter='best')"
     },
     "metadata": {},
     "execution_count": 80
    }
   ],
   "source": [
    "# 의사결정 tree 알고리즘 classifier 초기화\n",
    "from sklearn.tree import DecisionTreeClassifier\n",
    "from sklearn import tree\n",
    "\n",
    "dt_clf = DecisionTreeClassifier()\n",
    "\n",
    "'''\n",
    "DecisionTreeClassifier() 초기화를 통해 각 경우의 수마다 gini 계수를 \n",
    "자동으로 계산하고, 높은 확률을 추출함.\n",
    "여기서, 높은 확률은 낮은 gini 계수일수록 높음\n",
    "'''\n",
    "dt_clf"
   ]
  },
  {
   "cell_type": "code",
   "execution_count": 81,
   "metadata": {},
   "outputs": [
    {
     "output_type": "execute_result",
     "data": {
      "text/plain": "DecisionTreeClassifier(ccp_alpha=0.0, class_weight=None, criterion='gini',\n                       max_depth=None, max_features=None, max_leaf_nodes=None,\n                       min_impurity_decrease=0.0, min_impurity_split=None,\n                       min_samples_leaf=1, min_samples_split=2,\n                       min_weight_fraction_leaf=0.0, presort='deprecated',\n                       random_state=None, splitter='best')"
     },
     "metadata": {},
     "execution_count": 81
    }
   ],
   "source": [
    "# train set을 각 경우의 수 마다 계산\n",
    "dt_clf = dt_clf.fit(X_train, y_train)\n",
    "dt_clf"
   ]
  },
  {
   "cell_type": "code",
   "execution_count": 82,
   "metadata": {},
   "outputs": [
    {
     "output_type": "execute_result",
     "data": {
      "text/plain": "array([1, 0, 1, 1], dtype=int64)"
     },
     "metadata": {},
     "execution_count": 82
    }
   ],
   "source": [
    "# test set을 통한 예측값 출력!\n",
    "dt_predict = dt_clf.predict(X_test)\n",
    "dt_predict"
   ]
  },
  {
   "cell_type": "code",
   "execution_count": 83,
   "metadata": {
    "tags": []
   },
   "outputs": [
    {
     "output_type": "stream",
     "name": "stdout",
     "text": "[[1 1]\n [0 2]]\n"
    }
   ],
   "source": [
    "# confusion_matrix : 도출된 예측값과 실제값을 모든 경우의 수마다 대입하여 계산 \n",
    "from sklearn.metrics import classification_report, confusion_matrix # 모델의 성능 평가를 위한 패키지\n",
    "print(confusion_matrix(y_test, dt_predict))"
   ]
  },
  {
   "cell_type": "code",
   "execution_count": 84,
   "metadata": {},
   "outputs": [
    {
     "output_type": "execute_result",
     "data": {
      "text/plain": "'C:\\\\ProgramData\\\\Anaconda3\\\\envs\\\\test\\\\lib\\\\site-packages\\\\pywin32_system32;C:\\\\ProgramData\\\\Anaconda3\\\\envs\\\\test;C:\\\\ProgramData\\\\Anaconda3\\\\envs\\\\test\\\\Library\\\\mingw-w64\\\\bin;C:\\\\ProgramData\\\\Anaconda3\\\\envs\\\\test\\\\Library\\\\usr\\\\bin;C:\\\\ProgramData\\\\Anaconda3\\\\envs\\\\test\\\\Library\\\\bin;C:\\\\ProgramData\\\\Anaconda3\\\\envs\\\\test\\\\Scripts;C:\\\\ProgramData\\\\Anaconda3\\\\envs\\\\test\\\\bin;C:\\\\ProgramData\\\\Anaconda3\\\\condabin;C:\\\\ProgramData\\\\Anaconda3;C:\\\\ProgramData\\\\Anaconda3\\\\Library\\\\mingw-w64\\\\bin;C:\\\\ProgramData\\\\Anaconda3\\\\Library\\\\usr\\\\bin;C:\\\\ProgramData\\\\Anaconda3\\\\Library\\\\bin;C:\\\\ProgramData\\\\Anaconda3\\\\Scripts;C:\\\\Program Files (x86)\\\\NAT Service;C:\\\\ProgramData\\\\Oracle\\\\Java\\\\javapath;C:\\\\Program Files (x86)\\\\Common Files\\\\Intel\\\\Shared Libraries\\\\redist\\\\intel64\\\\compiler;C:\\\\Program Files (x86)\\\\Intel\\\\iCLS Client\\\\;C:\\\\Program Files\\\\Intel\\\\iCLS Client\\\\;C:\\\\Windows\\\\system32;C:\\\\Windows;C:\\\\Windows\\\\System32\\\\Wbem;C:\\\\Windows\\\\System32\\\\WindowsPowerShell\\\\v1.0\\\\;C:\\\\Program Files (x86)\\\\Intel\\\\Intel(R) Management Engine Components\\\\DAL;C:\\\\Program Files\\\\Intel\\\\Intel(R) Management Engine Components\\\\DAL;C:\\\\Program Files (x86)\\\\Intel\\\\Intel(R) Management Engine Components\\\\IPT;C:\\\\Program Files\\\\Intel\\\\Intel(R) Management Engine Components\\\\IPT;C:\\\\Program Files (x86)\\\\QuickTime\\\\QTSystem\\\\;C:\\\\Program Files\\\\Intel\\\\WiFi\\\\bin\\\\;C:\\\\Program Files\\\\Common Files\\\\Intel\\\\WirelessCommon\\\\;C:\\\\Program Files\\\\Git\\\\cmd;C:\\\\Program Files\\\\Microsoft SQL Server\\\\110\\\\Tools\\\\Binn\\\\;C:\\\\Users\\\\song won\\\\Anaconda3\\\\;C:\\\\Program Files\\\\Microsoft VS Code\\\\bin;C:\\\\Users\\\\song won\\\\AppData\\\\Local\\\\atom\\\\bin;C:\\\\Users\\\\song won\\\\AppData\\\\Local\\\\GitHubDesktop\\\\bin;C:\\\\ProgramData\\\\Anaconda3\\\\envs\\\\test\\\\lib\\\\site-packages\\\\numpy\\\\.libs;C:\\\\ProgramData\\\\Anaconda3\\\\envs\\\\test\\\\lib\\\\site-packages\\\\scipy\\\\.libs;C:/ai/program/Graphviz/bin/;C:/ai/program/Graphviz/bin/'"
     },
     "metadata": {},
     "execution_count": 84
    }
   ],
   "source": [
    "# tree 구조를 그려주는 graphviz 초기화\n",
    "os.environ[\"PATH\"]+=\";C:/ai/program/Graphviz/bin/\"\n",
    "os.environ[\"PATH\"]"
   ]
  },
  {
   "cell_type": "code",
   "execution_count": 85,
   "metadata": {},
   "outputs": [
    {
     "output_type": "execute_result",
     "data": {
      "text/plain": "'\\ndt_dot_data = tree.export_graphviz(\\n    dt_clf, #tree 알고리즘 classifier\\n    out_file=None,  #출력?저장?\\n    feature_names=[\"Outlook\",\"Temp\",\"Humidity\",\"Wind\"], # 독립변수\\n    class_names=[\\'No\\',\\'Yes\\'], # 종속변수\\n    filled=True, # 그래프 색깔넣기\\n    rounded=True, # 그래프 노드 둥근모양\\n    special_characters=True  # 글꼴 적용\\n)\\n'"
     },
     "metadata": {},
     "execution_count": 85
    }
   ],
   "source": [
    "# graphviz 그래프 설정 (아래에서 재정의)\n",
    "'''\n",
    "dt_dot_data = tree.export_graphviz(\n",
    "    dt_clf, #tree 알고리즘 classifier\n",
    "    out_file=None,  #출력?저장?\n",
    "    feature_names=[\"Outlook\",\"Temp\",\"Humidity\",\"Wind\"], # 독립변수\n",
    "    class_names=['No','Yes'], # 종속변수\n",
    "    filled=True, # 그래프 색깔넣기\n",
    "    rounded=True, # 그래프 노드 둥근모양\n",
    "    special_characters=True  # 글꼴 적용\n",
    ")\n",
    "'''"
   ]
  },
  {
   "cell_type": "code",
   "execution_count": 86,
   "metadata": {},
   "outputs": [
    {
     "output_type": "execute_result",
     "data": {
      "text/plain": "['Outlook', 'Temperature', 'Humidity', 'Wind']"
     },
     "metadata": {},
     "execution_count": 86
    }
   ],
   "source": [
    "# graphviz에 넣는 독립변수 초기화\n",
    "feature_names = tennis_data.columns.tolist() #데이터의 column을 리스트로\n",
    "feature_names = feature_names[0:4]\n",
    "feature_names"
   ]
  },
  {
   "cell_type": "code",
   "execution_count": 87,
   "metadata": {},
   "outputs": [
    {
     "output_type": "execute_result",
     "data": {
      "text/plain": "array(['Not Play', 'Play'], dtype='<U8')"
     },
     "metadata": {},
     "execution_count": 87
    }
   ],
   "source": [
    "# graphviz에 넣는 종속변수 초기화\n",
    "target_names = np.array([\"Not Play\",\"Play\"])\n",
    "target_names"
   ]
  },
  {
   "cell_type": "code",
   "execution_count": 88,
   "metadata": {},
   "outputs": [],
   "source": [
    "# graphviz 그래프 설정\n",
    "dt_dot_data = tree.export_graphviz(\n",
    "    dt_clf, #tree 알고리즘 classifier\n",
    "    out_file=None,  #출력?저장?\n",
    "    feature_names=feature_names, # 독립변수\n",
    "    class_names=target_names, # 종속변수\n",
    "    filled=True, # 그래프 색깔넣기\n",
    "    rounded=True, # 그래프 노드 둥근모양\n",
    "    special_characters=True  # 글꼴 적용\n",
    ")"
   ]
  },
  {
   "cell_type": "code",
   "execution_count": 89,
   "metadata": {},
   "outputs": [],
   "source": [
    "# graphviz의 dot 언어를 Python 인터페이스로 제공하는 모듈임\n",
    "import pydotplus\n",
    "dt_graph = pydotplus.graph_from_dot_data(dt_dot_data)"
   ]
  },
  {
   "cell_type": "code",
   "execution_count": 90,
   "metadata": {},
   "outputs": [
    {
     "output_type": "error",
     "ename": "InvocationException",
     "evalue": "GraphViz's executables not found",
     "traceback": [
      "\u001b[1;31m---------------------------------------------------------------------------\u001b[0m",
      "\u001b[1;31mInvocationException\u001b[0m                       Traceback (most recent call last)",
      "\u001b[1;32m<ipython-input-90-0227ec39fe90>\u001b[0m in \u001b[0;36m<module>\u001b[1;34m\u001b[0m\n\u001b[0;32m      5\u001b[0m '''\n\u001b[0;32m      6\u001b[0m \u001b[1;32mfrom\u001b[0m \u001b[0mIPython\u001b[0m\u001b[1;33m.\u001b[0m\u001b[0mdisplay\u001b[0m \u001b[1;32mimport\u001b[0m \u001b[0mImage\u001b[0m\u001b[1;33m\u001b[0m\u001b[0m\n\u001b[1;32m----> 7\u001b[1;33m \u001b[0mImage\u001b[0m\u001b[1;33m(\u001b[0m\u001b[0mdt_graph\u001b[0m\u001b[1;33m.\u001b[0m\u001b[0mcreate_png\u001b[0m\u001b[1;33m(\u001b[0m\u001b[1;33m)\u001b[0m\u001b[1;33m)\u001b[0m\u001b[1;33m\u001b[0m\u001b[0m\n\u001b[0m",
      "\u001b[1;32mC:\\ProgramData\\Anaconda3\\envs\\test\\lib\\site-packages\\pydotplus\\graphviz.py\u001b[0m in \u001b[0;36m<lambda>\u001b[1;34m(f, prog)\u001b[0m\n\u001b[0;32m   1795\u001b[0m             self.__setattr__(\n\u001b[0;32m   1796\u001b[0m                 \u001b[1;34m'create_'\u001b[0m \u001b[1;33m+\u001b[0m \u001b[0mfrmt\u001b[0m\u001b[1;33m,\u001b[0m\u001b[1;33m\u001b[0m\u001b[0m\n\u001b[1;32m-> 1797\u001b[1;33m                 \u001b[1;32mlambda\u001b[0m \u001b[0mf\u001b[0m\u001b[1;33m=\u001b[0m\u001b[0mfrmt\u001b[0m\u001b[1;33m,\u001b[0m \u001b[0mprog\u001b[0m\u001b[1;33m=\u001b[0m\u001b[0mself\u001b[0m\u001b[1;33m.\u001b[0m\u001b[0mprog\u001b[0m\u001b[1;33m:\u001b[0m \u001b[0mself\u001b[0m\u001b[1;33m.\u001b[0m\u001b[0mcreate\u001b[0m\u001b[1;33m(\u001b[0m\u001b[0mformat\u001b[0m\u001b[1;33m=\u001b[0m\u001b[0mf\u001b[0m\u001b[1;33m,\u001b[0m \u001b[0mprog\u001b[0m\u001b[1;33m=\u001b[0m\u001b[0mprog\u001b[0m\u001b[1;33m)\u001b[0m\u001b[1;33m\u001b[0m\u001b[0m\n\u001b[0m\u001b[0;32m   1798\u001b[0m             )\n\u001b[0;32m   1799\u001b[0m             \u001b[0mf\u001b[0m \u001b[1;33m=\u001b[0m \u001b[0mself\u001b[0m\u001b[1;33m.\u001b[0m\u001b[0m__dict__\u001b[0m\u001b[1;33m[\u001b[0m\u001b[1;34m'create_'\u001b[0m \u001b[1;33m+\u001b[0m \u001b[0mfrmt\u001b[0m\u001b[1;33m]\u001b[0m\u001b[1;33m\u001b[0m\u001b[0m\n",
      "\u001b[1;32mC:\\ProgramData\\Anaconda3\\envs\\test\\lib\\site-packages\\pydotplus\\graphviz.py\u001b[0m in \u001b[0;36mcreate\u001b[1;34m(self, prog, format)\u001b[0m\n\u001b[0;32m   1958\u001b[0m             \u001b[1;32mif\u001b[0m \u001b[0mself\u001b[0m\u001b[1;33m.\u001b[0m\u001b[0mprogs\u001b[0m \u001b[1;32mis\u001b[0m \u001b[1;32mNone\u001b[0m\u001b[1;33m:\u001b[0m\u001b[1;33m\u001b[0m\u001b[0m\n\u001b[0;32m   1959\u001b[0m                 raise InvocationException(\n\u001b[1;32m-> 1960\u001b[1;33m                     'GraphViz\\'s executables not found')\n\u001b[0m\u001b[0;32m   1961\u001b[0m \u001b[1;33m\u001b[0m\u001b[0m\n\u001b[0;32m   1962\u001b[0m         \u001b[1;32mif\u001b[0m \u001b[0mprog\u001b[0m \u001b[1;32mnot\u001b[0m \u001b[1;32min\u001b[0m \u001b[0mself\u001b[0m\u001b[1;33m.\u001b[0m\u001b[0mprogs\u001b[0m\u001b[1;33m:\u001b[0m\u001b[1;33m\u001b[0m\u001b[0m\n",
      "\u001b[1;31mInvocationException\u001b[0m: GraphViz's executables not found"
     ]
    }
   ],
   "source": [
    "# 시각화\n",
    "'''\n",
    "IPython 내에 정보를 보여주는 도구용 공용 API\n",
    "Image : raw 데이터가 있는 PNG, JPEG 이미지 객체를 만드는 모듈\n",
    "'''\n",
    "from IPython.display import Image\n",
    "Image(dt_graph.create_png())"
   ]
  },
  {
   "cell_type": "code",
   "execution_count": 91,
   "metadata": {},
   "outputs": [
    {
     "output_type": "execute_result",
     "data": {
      "text/plain": "array([[1, 1],\n       [0, 2]], dtype=int64)"
     },
     "metadata": {},
     "execution_count": 91
    }
   ],
   "source": [
    "# confusion Matrix, ppt 610\n",
    "# 예측값과 실제값을 각각 비교하고 Python이 confusion matrix로 보여줌\n",
    "confusion_matrix(y_test, dt_predict)"
   ]
  },
  {
   "cell_type": "code",
   "execution_count": 92,
   "metadata": {
    "tags": []
   },
   "outputs": [
    {
     "output_type": "stream",
     "name": "stdout",
     "text": "정확도: 0.75\n"
    }
   ],
   "source": [
    "# 모델의 정확도계산\n",
    "from sklearn.metrics import accuracy_score\n",
    "acc = accuracy_score(y_test, dt_predict)\n",
    "print('정확도:', acc)"
   ]
  }
 ],
 "metadata": {
  "language_info": {
   "codemirror_mode": {
    "name": "ipython",
    "version": 3
   },
   "file_extension": ".py",
   "mimetype": "text/x-python",
   "name": "python",
   "nbconvert_exporter": "python",
   "pygments_lexer": "ipython3",
   "version": "3.5.6-final"
  },
  "orig_nbformat": 2,
  "kernelspec": {
   "name": "python35664bittestcondaeab8e695020d43cb908e30203e0899e9",
   "display_name": "Python 3.5.6 64-bit ('test': conda)"
  }
 },
 "nbformat": 4,
 "nbformat_minor": 2
}