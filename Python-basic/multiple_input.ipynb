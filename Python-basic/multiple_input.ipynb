{
 "cells": [
  {
   "cell_type": "code",
   "execution_count": 1,
   "metadata": {},
   "outputs": [
    {
     "output_type": "execute_result",
     "data": {
      "text/plain": "'\\nQ. 사용자에게 여러 개의 숫자를 입력받아서, 가장 큰 수와 작은 숫자를 출력하시오.\\n   (단, 입력받는 숫자는 정수 형태이든 실수 형태이든 상관없다.)\\n'"
     },
     "metadata": {},
     "execution_count": 1
    }
   ],
   "source": [
    "\"\"\"\n",
    " Q. 사용자에게 여러 개의 숫자를 입력받아서, 가장 큰 수와 작은 숫자를 출력하시오.\n",
    "    (단, 입력받는 숫자는 양수/음수, 정수/실수 어떤 형태이든 모두 입력받을 수 있다.)\n",
    "\n",
    "\"\"\""
   ]
  },
  {
   "cell_type": "code",
   "execution_count": 1,
   "metadata": {},
   "outputs": [
    {
     "output_type": "execute_result",
     "data": {
      "text/plain": "(4.0, 5.234, -3.0, -23.0, 3.4543)"
     },
     "metadata": {},
     "execution_count": 1
    }
   ],
   "source": [
    "input_vals = ()     # 입력받을 tuple 생성\n",
    "#type(input_vals)\n",
    "\n",
    "# 여러 개의 숫자를 입력받기\n",
    "input_vals = tuple(map(float, input(\"숫자를 입력:\").split()))\n",
    "input_vals"
   ]
  },
  {
   "cell_type": "code",
   "execution_count": 2,
   "metadata": {
    "tags": []
   },
   "outputs": [
    {
     "output_type": "stream",
     "name": "stdout",
     "text": "최대값: 5.234\n최소값: -23.0\n"
    }
   ],
   "source": [
    "'''\n",
    "아래 주석은 최대값 구현을 위한 과정\n",
    "'''\n",
    "# numbers = len(input_vals)\n",
    "# max_val = 0\n",
    "# min_val = 0\n",
    "\n",
    "# for i in range(0, numbers):\n",
    "#     #print(input_vals[i])\n",
    "#     if max_val < input_vals[i]: # 최대값 구하기\n",
    "#         print(max_val, \" vs \", input_vals[i])\n",
    "#         max_val = input_vals[i]\n",
    "#         #print(max_val)\n",
    "\n",
    "\n",
    "'''\n",
    "함수화 형태\n",
    "'''\n",
    "def Maximum(tup):  \n",
    "    nums = len(tup)\n",
    "    max_val = 0\n",
    "\n",
    "    for i in range(0, nums):\n",
    "        if max_val < tup[i]: # 최대값 구하기\n",
    "            max_val = tup[i]\n",
    "    return max_val\n",
    "\n",
    "\n",
    "def Minimum(tup):\n",
    "    nums = len(tup)\n",
    "    min_val = tup[0] # 최소값은 첫번째값로 초기화\n",
    "\n",
    "    for i in range(0, nums):\n",
    "        if min_val > tup[i]:\n",
    "            min_val = tup[i]\n",
    "    return min_val\n",
    "    \n",
    "\n",
    "print(\"최대값:\", Maximum(input_vals))\n",
    "print(\"최소값:\", Minimum(input_vals))\n",
    "    "
   ]
  },
  {
   "cell_type": "code",
   "execution_count": null,
   "metadata": {},
   "outputs": [],
   "source": []
  }
 ],
 "metadata": {
  "language_info": {
   "codemirror_mode": {
    "name": "ipython",
    "version": 3
   },
   "file_extension": ".py",
   "mimetype": "text/x-python",
   "name": "python",
   "nbconvert_exporter": "python",
   "pygments_lexer": "ipython3",
   "version": "3.6.8-final"
  },
  "orig_nbformat": 2,
  "kernelspec": {
   "name": "python36864bittorchcondad9664c32edbf4ce3a4e9c5ef9a99e722",
   "display_name": "Python 3.6.8 64-bit ('torch': conda)"
  }
 },
 "nbformat": 4,
 "nbformat_minor": 2
}